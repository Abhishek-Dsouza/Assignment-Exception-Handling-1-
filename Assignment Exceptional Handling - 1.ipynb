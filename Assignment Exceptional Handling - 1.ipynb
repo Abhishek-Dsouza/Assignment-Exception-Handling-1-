{
 "cells": [
  {
   "cell_type": "markdown",
   "id": "2ef0ef83-0766-43b3-8ec4-fbb86427a2df",
   "metadata": {},
   "source": [
    "# Assignment (Exception Handling-1)"
   ]
  },
  {
   "cell_type": "markdown",
   "id": "7a9ad728-369f-49e5-986a-853f975e6e7f",
   "metadata": {},
   "source": [
    "## Q1. What is Exception in python? Write the diffrence between Exceptions and Syntax errors.\n",
    "### Answer:-"
   ]
  },
  {
   "cell_type": "markdown",
   "id": "da24375f-8ca6-46fc-bf67-5f199398d51d",
   "metadata": {},
   "source": [
    "### In Python, an exception is an error that occurs during the execution of a program. When an exception occurs, Python stops the normal execution of the program and jumps to a special block of code called an exception handler, which handles the exception.\n",
    "\n",
    "## Exceptions can be raised by the interpreter or by the user's code. Some common examples of exceptions are:\n",
    "\n",
    "### ZeroDivisionError: Raised when attempting to divide by zero\n",
    "### TypeError: Raised when an operation or function is applied to an object of inappropriate type\n",
    "### ValueError: Raised when an operation or function receives an argument that has the right type but an inappropriate value\n",
    "### On the other hand, syntax errors occur when the Python interpreter detects a syntax error in the code. These errors are caused by mistakes such as missing parentheses, incorrect indentation, or invalid syntax. Syntax errors are detected before the program is executed, and they prevent the program from running.\n",
    "\n",
    "## Here are some key differences between exceptions and syntax errors:\n",
    "\n",
    "### Exceptions occur during the execution of the program, while syntax errors are detected before the program is executed.\n",
    "### Exceptions are caused by errors in the logic or flow of the program, while syntax errors are caused by mistakes in the code syntax.\n",
    "### Exceptions can be handled using exception handlers, while syntax errors must be fixed in the code before the program can run.\n",
    "### Exceptions are a normal part of programming and can be handled gracefully, while syntax errors are considered bugs that need to be fixed."
   ]
  },
  {
   "cell_type": "markdown",
   "id": "2e8c991a-81bc-4655-b8d8-6e1634dee24d",
   "metadata": {},
   "source": [
    "## Q2. What Happens When an exception is not handled? Explain with example\n",
    "### Answer:-"
   ]
  },
  {
   "cell_type": "markdown",
   "id": "b9ed6ac8-9e2e-4f64-a2cf-036d31698709",
   "metadata": {},
   "source": [
    "### When an exception is not handled, it will cause the program to terminate abruptly and display an error message. This can be problematic, especially if the program is running in a production environment or if it is part of a larger system.\n",
    "\n",
    "## Here is an example of what happens when an exception is not handled in Python:"
   ]
  },
  {
   "cell_type": "code",
   "execution_count": 1,
   "id": "9ce01316-aeea-45f2-838f-457a2b841a8a",
   "metadata": {},
   "outputs": [
    {
     "name": "stdout",
     "output_type": "stream",
     "text": [
      "Cannot divide by zero\n",
      "None\n"
     ]
    }
   ],
   "source": [
    "def divide(x, y):\n",
    "    try:\n",
    "        return x / y\n",
    "    except ZeroDivisionError:\n",
    "        print(\"Cannot divide by zero\")\n",
    "        return None\n",
    "\n",
    "result = divide(10, 0)\n",
    "print(result)\n"
   ]
  },
  {
   "cell_type": "markdown",
   "id": "440b1266-1f0d-4fec-b8c9-634c1f07f950",
   "metadata": {},
   "source": [
    "## Q3. Which python statements are used to catch and handle exceptions? explain With example.\n",
    "### Answer:-"
   ]
  },
  {
   "cell_type": "markdown",
   "id": "001edd22-8df1-41fc-8f34-f775fbec0ee8",
   "metadata": {},
   "source": [
    "### In Python, you can use try-except statements to catch and handle exceptions. The try block contains the code that might raise an exception, and the except block contains the code that will handle the exception.\n",
    "\n",
    "## Here's an example of using try-except statements to handle a ValueError exception:"
   ]
  },
  {
   "cell_type": "code",
   "execution_count": 3,
   "id": "076fbfb9-234d-4984-970a-18a99b22f818",
   "metadata": {},
   "outputs": [
    {
     "name": "stdin",
     "output_type": "stream",
     "text": [
      "Enter your age:  jh\n"
     ]
    },
    {
     "name": "stdout",
     "output_type": "stream",
     "text": [
      "Invalid input. Please enter a valid integer.\n"
     ]
    },
    {
     "name": "stdin",
     "output_type": "stream",
     "text": [
      "Enter your age:  23\n"
     ]
    },
    {
     "name": "stdout",
     "output_type": "stream",
     "text": [
      "Your age is: 23\n"
     ]
    }
   ],
   "source": [
    "while True:\n",
    "    try:\n",
    "        age = int(input(\"Enter your age: \"))\n",
    "        print(\"Your age is:\", age)\n",
    "        break\n",
    "    except ValueError:\n",
    "        print(\"Invalid input. Please enter a valid integer.\")\n"
   ]
  },
  {
   "cell_type": "markdown",
   "id": "b9377e00-ae05-4c89-8905-a9e0fc3849e7",
   "metadata": {},
   "source": [
    "## Q4. Explain with an example:\n",
    "### a. Try and else\n",
    "### b. finally\n",
    "### c. raise\n",
    "\n",
    "### Answer:-"
   ]
  },
  {
   "cell_type": "markdown",
   "id": "133d85ea-c86b-46f8-ba57-d818749252e6",
   "metadata": {},
   "source": [
    "###  a. Try and else\n",
    "### \"Try and else\" is not a commonly used programming term or phrase. However, there are two related phrases in programming that are often used together: \"try-catch\" and \"try-except.\"\n",
    "\n",
    "### In Python, for example, we can use the \"try-except\" statement to handle exceptions that might be raised during the execution of our code. Here's an example:"
   ]
  },
  {
   "cell_type": "code",
   "execution_count": 4,
   "id": "0237b256-ac96-41dc-ae12-4f315058df64",
   "metadata": {},
   "outputs": [
    {
     "name": "stdin",
     "output_type": "stream",
     "text": [
      "Please enter a number:  54\n"
     ]
    },
    {
     "name": "stdout",
     "output_type": "stream",
     "text": [
      "The result is: 0.018518518518518517\n"
     ]
    }
   ],
   "source": [
    "try:\n",
    "    x = int(input(\"Please enter a number: \"))\n",
    "    y = 1 / x\n",
    "except ValueError:\n",
    "    print(\"You did not enter a valid number.\")\n",
    "except ZeroDivisionError:\n",
    "    print(\"You cannot divide by zero.\")\n",
    "else:\n",
    "    print(\"The result is:\", y)\n"
   ]
  },
  {
   "cell_type": "markdown",
   "id": "1e7f2f61-2589-4913-87e9-88d82e563266",
   "metadata": {},
   "source": [
    "### b. \"finally\" is a keyword used in programming to define a block of code that will be executed after a \"try\" block, regardless of whether an exception is raised or not. This block is optional and will always run even if an exception occurs, or if the code within the \"try\" block exits due to a return statement or a break statement.\n",
    "\n",
    "### Here's an example in Python:"
   ]
  },
  {
   "cell_type": "code",
   "execution_count": 7,
   "id": "644de459-40f9-4a4d-bd6d-4a6328d2c118",
   "metadata": {},
   "outputs": [],
   "source": [
    "try:\n",
    "    # Some code that may raise an exception\n",
    "    pass \n",
    "except:\n",
    "    # Exception handling code\n",
    "    pass\n",
    "finally:\n",
    "    pass\n",
    "    # Code that will be executed regardless of whether an exception occurred or not\n"
   ]
  },
  {
   "cell_type": "markdown",
   "id": "c9415099-cd68-4d53-8fad-85efd1e9161f",
   "metadata": {},
   "source": [
    "### c. \"raise\" is a keyword used in programming to explicitly raise an exception. In Python, for example, we can use the \"raise\" statement to raise an exception with a specified message.\n",
    "\n",
    "### Here's an example in Python:"
   ]
  },
  {
   "cell_type": "code",
   "execution_count": 8,
   "id": "69f9480f-b2a9-4b4a-9f5f-fc09264fe55b",
   "metadata": {},
   "outputs": [
    {
     "ename": "ValueError",
     "evalue": "x should not exceed 5.",
     "output_type": "error",
     "traceback": [
      "\u001b[0;31m---------------------------------------------------------------------------\u001b[0m",
      "\u001b[0;31mValueError\u001b[0m                                Traceback (most recent call last)",
      "Cell \u001b[0;32mIn[8], line 3\u001b[0m\n\u001b[1;32m      1\u001b[0m x \u001b[38;5;241m=\u001b[39m \u001b[38;5;241m10\u001b[39m\n\u001b[1;32m      2\u001b[0m \u001b[38;5;28;01mif\u001b[39;00m x \u001b[38;5;241m>\u001b[39m \u001b[38;5;241m5\u001b[39m:\n\u001b[0;32m----> 3\u001b[0m     \u001b[38;5;28;01mraise\u001b[39;00m \u001b[38;5;167;01mValueError\u001b[39;00m(\u001b[38;5;124m\"\u001b[39m\u001b[38;5;124mx should not exceed 5.\u001b[39m\u001b[38;5;124m\"\u001b[39m)\n",
      "\u001b[0;31mValueError\u001b[0m: x should not exceed 5."
     ]
    }
   ],
   "source": [
    "x = 10\n",
    "if x > 5:\n",
    "    raise ValueError(\"x should not exceed 5.\")\n"
   ]
  },
  {
   "cell_type": "markdown",
   "id": "d8ff2a0a-2317-4081-b434-de96d3c62323",
   "metadata": {},
   "source": [
    "## Q5. What are custom exception in python? Why do we need Custom Exceptions? Explain with an example. \n",
    "### Answer:-"
   ]
  },
  {
   "cell_type": "markdown",
   "id": "ace27e01-18f6-4707-9a54-a09e5e0c0df1",
   "metadata": {},
   "source": [
    "### Custom exceptions in Python are user-defined exceptions that can be raised in response to specific errors or exceptional conditions in a program. They are created by deriving a new class from the built-in \"Exception\" class or any of its subclasses.\n",
    "\n",
    "### We need custom exceptions in Python to make our code more expressive and easier to read, especially when we are dealing with complex applications where multiple types of errors can occur. By defining custom exceptions, we can give meaningful names to these exceptions and handle them in a more specific and targeted manner.\n",
    "\n",
    "### Here's an example of defining and using a custom exception in Python:"
   ]
  },
  {
   "cell_type": "code",
   "execution_count": 9,
   "id": "7a7b8147-fc26-4195-8776-44d3ab05758f",
   "metadata": {},
   "outputs": [
    {
     "name": "stdout",
     "output_type": "stream",
     "text": [
      "An error occurred: The second argument must not be zero.\n"
     ]
    }
   ],
   "source": [
    "class InvalidInputError(Exception):\n",
    "    def __init__(self, message):\n",
    "        self.message = message\n",
    "        super().__init__(self.message)\n",
    "\n",
    "def divide_numbers(a, b):\n",
    "    if b == 0:\n",
    "        raise InvalidInputError(\"The second argument must not be zero.\")\n",
    "    return a / b\n",
    "\n",
    "try:\n",
    "    result = divide_numbers(10, 0)\n",
    "    print(result)\n",
    "except InvalidInputError as e:\n",
    "    print(\"An error occurred:\", e.message)\n"
   ]
  },
  {
   "cell_type": "markdown",
   "id": "237c7ef9-6eb6-4a23-827c-1eb897a65fc6",
   "metadata": {},
   "source": [
    "## Q6. Create a custom exception class. use this class to handle an exception.\n",
    "### Answer:-"
   ]
  },
  {
   "cell_type": "markdown",
   "id": "a52b65c8-fed4-4c45-b1a0-e6d85ad5a87d",
   "metadata": {},
   "source": [
    "### here's an example of creating a custom exception class and handling an exception using it in Python:"
   ]
  },
  {
   "cell_type": "code",
   "execution_count": 10,
   "id": "ea1ef1a7-029a-4afb-9d09-8c15d5b1a247",
   "metadata": {},
   "outputs": [
    {
     "name": "stdout",
     "output_type": "stream",
     "text": [
      "An error occurred: Cannot compute square root of negative number\n"
     ]
    }
   ],
   "source": [
    "class NegativeNumberError(Exception):\n",
    "    def __init__(self, message):\n",
    "        super().__init__(message)\n",
    "\n",
    "def square_root(number):\n",
    "    if number < 0:\n",
    "        raise NegativeNumberError(\"Cannot compute square root of negative number\")\n",
    "    return number ** 0.5\n",
    "\n",
    "try:\n",
    "    result = square_root(-4)\n",
    "    print(result)\n",
    "except NegativeNumberError as e:\n",
    "    print(\"An error occurred:\", e)\n"
   ]
  },
  {
   "cell_type": "code",
   "execution_count": null,
   "id": "46a54e2c-8b89-47ad-8cc6-d78a8b2c48dc",
   "metadata": {},
   "outputs": [],
   "source": []
  }
 ],
 "metadata": {
  "kernelspec": {
   "display_name": "Python 3 (ipykernel)",
   "language": "python",
   "name": "python3"
  },
  "language_info": {
   "codemirror_mode": {
    "name": "ipython",
    "version": 3
   },
   "file_extension": ".py",
   "mimetype": "text/x-python",
   "name": "python",
   "nbconvert_exporter": "python",
   "pygments_lexer": "ipython3",
   "version": "3.10.8"
  }
 },
 "nbformat": 4,
 "nbformat_minor": 5
}
